{
 "cells": [
  {
   "cell_type": "code",
   "execution_count": null,
   "id": "60916c8f",
   "metadata": {},
   "outputs": [],
   "source": [
    "## Remove Background Menggunakan Open CV Library rembg"
   ]
  },
  {
   "cell_type": "code",
   "execution_count": null,
   "id": "d9adf79c",
   "metadata": {},
   "outputs": [],
   "source": [
    "!pip install rembg"
   ]
  },
  {
   "cell_type": "code",
   "execution_count": null,
   "id": "ec02930b",
   "metadata": {},
   "outputs": [],
   "source": [
    "from rembg import remove\n",
    "import cv2\n",
    "\n",
    "input_path = 'pexels-lil-artsy-1624076.jpg'\n",
    "output_path = 'output.jpeg'\n",
    "\n",
    "input = cv2.imread(input_path)\n",
    "output = remove(input)\n",
    "cv2.imwrite(output_path, output)"
   ]
  },
  {
   "cell_type": "code",
   "execution_count": 26,
   "id": "8b2c94fc",
   "metadata": {},
   "outputs": [],
   "source": [
    "from rembg import remove\n",
    "from PIL import Image\n",
    "\n",
    "input_path = '2022-ferrari-296gtb-assetto-fiorano-148-1646596032.jpeg'\n",
    "output_path = 'output-ferrari.png'\n",
    "\n",
    "input = Image.open(input_path)\n",
    "output = remove(input)\n",
    "output.save(output_path)"
   ]
  }
 ],
 "metadata": {
  "kernelspec": {
   "display_name": "Python 3 (ipykernel)",
   "language": "python",
   "name": "python3"
  },
  "language_info": {
   "codemirror_mode": {
    "name": "ipython",
    "version": 3
   },
   "file_extension": ".py",
   "mimetype": "text/x-python",
   "name": "python",
   "nbconvert_exporter": "python",
   "pygments_lexer": "ipython3",
   "version": "3.9.13"
  }
 },
 "nbformat": 4,
 "nbformat_minor": 5
}
