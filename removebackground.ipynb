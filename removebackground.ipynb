{
 "cells": [
  {
   "cell_type": "code",
   "execution_count": null,
   "id": "349a6876",
   "metadata": {},
   "outputs": [],
   "source": [
    "## Remove Background Menggunakan Open CV Library rembg"
   ]
  },
  {
   "cell_type": "code",
   "execution_count": null,
   "id": "2ffa2795",
   "metadata": {},
   "outputs": [],
   "source": [
    "!pip install rembg"
   ]
  },
  {
   "cell_type": "code",
   "execution_count": null,
   "id": "89f4ea1e",
   "metadata": {},
   "outputs": [],
   "source": [
    "from rembg import remove\n",
    "import cv2\n",
    "\n",
    "input_path = 'pexels-lil-artsy-1624076.jpg'\n",
    "output_path = 'output.jpeg'\n",
    "\n",
    "input = cv2.imread(input_path)\n",
    "output = remove(input)\n",
    "cv2.imwrite(output_path, output)"
   ]
  },
  {
   "cell_type": "code",
   "execution_count": 11,
   "id": "ca95180f",
   "metadata": {},
   "outputs": [
    {
     "data": {
      "text/plain": [
       "True"
      ]
     },
     "execution_count": 11,
     "metadata": {},
     "output_type": "execute_result"
    }
   ],
   "source": [
    "from rembg import remove\n",
    "import cv2\n",
    "\n",
    "input_path = 'sepeda.jpeg'\n",
    "output_path = 'output-sepeda.png'\n",
    "\n",
    "input = cv2.imread(input_path)\n",
    "output = remove(input)\n",
    "cv2.imwrite(output_path, output)"
   ]
  }
 ],
 "metadata": {
  "kernelspec": {
   "display_name": "Python 3 (ipykernel)",
   "language": "python",
   "name": "python3"
  },
  "language_info": {
   "codemirror_mode": {
    "name": "ipython",
    "version": 3
   },
   "file_extension": ".py",
   "mimetype": "text/x-python",
   "name": "python",
   "nbconvert_exporter": "python",
   "pygments_lexer": "ipython3",
   "version": "3.9.13"
  }
 },
 "nbformat": 4,
 "nbformat_minor": 5
}
